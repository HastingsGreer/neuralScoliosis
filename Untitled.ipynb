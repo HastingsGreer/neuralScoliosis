{
 "cells": [
  {
   "cell_type": "code",
   "execution_count": 1,
   "metadata": {},
   "outputs": [
    {
     "name": "stderr",
     "output_type": "stream",
     "text": [
      "Using TensorFlow backend.\n"
     ]
    }
   ],
   "source": [
    "import keras"
   ]
  },
  {
   "cell_type": "code",
   "execution_count": 5,
   "metadata": {},
   "outputs": [
    {
     "name": "stdout",
     "output_type": "stream",
     "text": [
      "x_train shape: (60000, 28, 28, 1)\n",
      "60000 train samples\n",
      "10000 test samples\n"
     ]
    }
   ],
   "source": [
    "'''Trains a simple convnet on the MNIST dataset.\n",
    "Gets to 99.25% test accuracy after 12 epochs\n",
    "(there is still a lot of margin for parameter tuning).\n",
    "16 seconds per epoch on a GRID K520 GPU.\n",
    "'''\n",
    "\n",
    "from __future__ import print_function\n",
    "import keras\n",
    "from keras.datasets import mnist\n",
    "from keras.models import Sequential\n",
    "from keras.layers import Dense, Dropout, Flatten\n",
    "from keras.layers import Conv2D, MaxPooling2D\n",
    "from keras import backend as K\n",
    "\n",
    "batch_size = 128\n",
    "num_classes = 10\n",
    "epochs = 12\n",
    "\n",
    "# input image dimensions\n",
    "img_rows, img_cols = 28, 28\n",
    "\n",
    "# the data, shuffled and split between train and test sets\n",
    "(x_train, y_train), (x_test, y_test) = mnist.load_data()\n",
    "\n",
    "if K.image_data_format() == 'channels_first':\n",
    "    x_train = x_train.reshape(x_train.shape[0], 1, img_rows, img_cols)\n",
    "    x_test = x_test.reshape(x_test.shape[0], 1, img_rows, img_cols)\n",
    "    input_shape = (1, img_rows, img_cols)\n",
    "else:\n",
    "    x_train = x_train.reshape(x_train.shape[0], img_rows, img_cols, 1)\n",
    "    x_test = x_test.reshape(x_test.shape[0], img_rows, img_cols, 1)\n",
    "    input_shape = (img_rows, img_cols, 1)\n",
    "\n",
    "x_train = x_train.astype('float32')\n",
    "x_test = x_test.astype('float32')\n",
    "x_train /= 255\n",
    "x_test /= 255\n",
    "print('x_train shape:', x_train.shape)\n",
    "print(x_train.shape[0], 'train samples')\n",
    "print(x_test.shape[0], 'test samples')\n",
    "\n",
    "# convert class vectors to binary class matrices\n",
    "y_train = keras.utils.to_categorical(y_train, num_classes)\n",
    "y_test = keras.utils.to_categorical(y_test, num_classes)\n",
    "\n",
    "\n",
    "from keras.models import Model\n",
    "\n",
    "from keras.layers import Input\n",
    "\n",
    "a = Input(shape=input_shape)\n",
    "\n",
    "encodeLayer1 = Conv2D(32, kernel_size=(3, 3), padding = 'same',\n",
    "                 activation='relu')(a)\n",
    "encodeLayer2 = Conv2D(64, (3, 3), activation='relu', padding = 'same')\n",
    "encodeLayer3 = MaxPooling2D(pool_size=(2, 2))\n",
    "encodeLayer4 = Conv2D(64, (3, 3), activation='relu', padding = 'same')\n",
    "encodeLayer5 = MaxPooling2D(pool_size=(2, 2))\n",
    "\n",
    "encodeLayer6 = Flatten()\n",
    "encodeLayer7 = Dense(64)\n",
    "\n",
    "encoded = encodeLayer7(encodeLayer6(encodeLayer5(encodeLayer4(encodeLayer3(encodeLayer2(encodeLayer1(a)))))))\n",
    "\n",
    "\n",
    "\n",
    "d = MaxPooling2D(pool_size=(2, 2))(c)\n",
    "e = Dropout(0.25)(d)\n",
    "f = Flatten()(e)\n",
    "f = Dense(128, activation='relu')(f)\n",
    "f = Dropout(0.5)(f)\n",
    "f = Dense(num_classes, activation='softmax')(f)\n",
    "\n",
    "model = Model(inputs = a, outputs = f)\n",
    "\n",
    "model.compile(loss=keras.losses.categorical_crossentropy,\n",
    "              optimizer=keras.optimizers.Adadelta(),\n",
    "              metrics=['accuracy'])\n",
    "\n"
   ]
  },
  {
   "cell_type": "code",
   "execution_count": 6,
   "metadata": {},
   "outputs": [
    {
     "name": "stdout",
     "output_type": "stream",
     "text": [
      "Train on 60000 samples, validate on 10000 samples\n",
      "Epoch 1/12\n",
      "60000/60000 [==============================] - 5s - loss: 0.3212 - acc: 0.9022 - val_loss: 0.0836 - val_acc: 0.9741\n",
      "Epoch 2/12\n",
      "60000/60000 [==============================] - 5s - loss: 0.1147 - acc: 0.9665 - val_loss: 0.0573 - val_acc: 0.9809\n",
      "Epoch 3/12\n",
      "60000/60000 [==============================] - 5s - loss: 0.0869 - acc: 0.9737 - val_loss: 0.0468 - val_acc: 0.9844\n",
      "Epoch 4/12\n",
      "60000/60000 [==============================] - 5s - loss: 0.0717 - acc: 0.9790 - val_loss: 0.0405 - val_acc: 0.9866\n",
      "Epoch 5/12\n",
      "60000/60000 [==============================] - 5s - loss: 0.0625 - acc: 0.9819 - val_loss: 0.0388 - val_acc: 0.9862\n",
      "Epoch 6/12\n",
      "60000/60000 [==============================] - 5s - loss: 0.0557 - acc: 0.9833 - val_loss: 0.0359 - val_acc: 0.9881\n",
      "Epoch 7/12\n",
      "60000/60000 [==============================] - 5s - loss: 0.0523 - acc: 0.9852 - val_loss: 0.0334 - val_acc: 0.9886\n",
      "Epoch 8/12\n",
      "60000/60000 [==============================] - 5s - loss: 0.0489 - acc: 0.9853 - val_loss: 0.0339 - val_acc: 0.9889\n",
      "Epoch 9/12\n",
      "60000/60000 [==============================] - 5s - loss: 0.0453 - acc: 0.9865 - val_loss: 0.0330 - val_acc: 0.9902\n",
      "Epoch 10/12\n",
      "60000/60000 [==============================] - 5s - loss: 0.0426 - acc: 0.9873 - val_loss: 0.0332 - val_acc: 0.9887\n",
      "Epoch 11/12\n",
      "60000/60000 [==============================] - 5s - loss: 0.0391 - acc: 0.9884 - val_loss: 0.0312 - val_acc: 0.9898\n",
      "Epoch 12/12\n",
      "60000/60000 [==============================] - 5s - loss: 0.0382 - acc: 0.9886 - val_loss: 0.0336 - val_acc: 0.9898\n",
      "Test loss: 0.0335894061594\n",
      "Test accuracy: 0.9898\n"
     ]
    }
   ],
   "source": [
    "model.fit(x_train, y_train,\n",
    "          batch_size=batch_size,\n",
    "          epochs=epochs,\n",
    "          verbose=1,\n",
    "          validation_data=(x_test, y_test))\n",
    "score = model.evaluate(x_test, y_test, verbose=0)\n",
    "print('Test loss:', score[0])\n",
    "print('Test accuracy:', score[1])"
   ]
  },
  {
   "cell_type": "code",
   "execution_count": 3,
   "metadata": {},
   "outputs": [
    {
     "data": {
      "text/plain": [
       "(60000, 28, 28, 1)"
      ]
     },
     "execution_count": 3,
     "metadata": {},
     "output_type": "execute_result"
    }
   ],
   "source": [
    "x_train.shape"
   ]
  },
  {
   "cell_type": "code",
   "execution_count": null,
   "metadata": {
    "collapsed": true
   },
   "outputs": [],
   "source": []
  }
 ],
 "metadata": {
  "kernelspec": {
   "display_name": "Python 3",
   "language": "python",
   "name": "python3"
  },
  "language_info": {
   "codemirror_mode": {
    "name": "ipython",
    "version": 3
   },
   "file_extension": ".py",
   "mimetype": "text/x-python",
   "name": "python",
   "nbconvert_exporter": "python",
   "pygments_lexer": "ipython3",
   "version": "3.5.3"
  }
 },
 "nbformat": 4,
 "nbformat_minor": 2
}
